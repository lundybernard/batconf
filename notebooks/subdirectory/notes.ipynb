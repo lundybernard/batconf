{
 "cells": [
  {
   "cell_type": "markdown",
   "id": "7a0f42d887ebf639",
   "metadata": {},
   "source": [
    "# BatConf for Notebooks\n",
    "Notebooks in subdirectories,\n",
    "which need to access `config.py`, or other .py files\n",
    "from predecessor directories.\n",
    "\n",
    "Add the directory to `sys.path`, and import directly from the file."
   ]
  },
  {
   "cell_type": "code",
   "execution_count": null,
   "id": "initial_id",
   "metadata": {},
   "outputs": [],
   "source": [
    "import sys\n",
    "from pathlib import Path\n",
    "\n",
    "\n",
    "# Import our get_config method from config.py in the parent directory\n",
    "sys.path.append(str(Path('../').resolve()))\n",
    "from config import get_config\n",
    "# Load a flat .ini config file instead of the default environments format.\n",
    "from batconf.sources.ini import IniConfig\n",
    "\n",
    "\n",
    "cfg = get_config(config_file=IniConfig('subconf.ini', file_format='flat'))\n",
    "\n",
    "cfg.opt1"
   ]
  },
  {
   "cell_type": "code",
   "execution_count": null,
   "id": "292ff659c44b75",
   "metadata": {},
   "outputs": [],
   "source": [
    "cfg.opt2"
   ]
  }
 ],
 "metadata": {
  "language_info": {
   "name": "python"
  }
 },
 "nbformat": 4,
 "nbformat_minor": 5
}
