{
 "cells": [
  {
   "cell_type": "markdown",
   "id": "e615e01e17f0f167",
   "metadata": {},
   "source": [
    "## Example configuration\n",
    "This example uses a config.py file\n",
    "which provides a reusable configuration schema and `get_config` function.\n",
    "\n",
    "It uses the default environment-aware config file format."
   ]
  },
  {
   "cell_type": "code",
   "execution_count": null,
   "id": "2189a604-7727-45cd-b384-27d6ac0c6b20",
   "metadata": {},
   "outputs": [],
   "source": [
    "from config import get_config\n",
    "\n",
    "\n",
    "# Get the default configuration environment (test)\n",
    "cfg = get_config()\n",
    "\n",
    "print(cfg)\n",
    "print(cfg.doc)\n",
    "print(cfg.client.doc)\n",
    "\n",
    "# Note on Hidden values:\n",
    "# Values which are not included in the schema can still be accessed,\n",
    "# but they will not appear in the cfg __repr__ string\n",
    "print(f'{cfg.client.password=} is hidden from the schema')"
   ]
  },
  {
   "cell_type": "markdown",
   "id": "35ed1549c8741845",
   "metadata": {},
   "source": [
    "*The next several sections demonstrate loading files from different locations*\n",
    "*and with different file formats*\n",
    "\n",
    "*Feel free to modify config.py to set the defaults to suit your needs*\n",
    "\n",
    "## Load a different environment from config.ini\n",
    "The default 'environments' file format\n",
    "allows us to save configurations for different environments in one config file\n",
    "\n",
    "In this example, we explicitly load the 'production' environment\n",
    "instead of the default 'test' environment."
   ]
  },
  {
   "cell_type": "code",
   "execution_count": null,
   "id": "886f4e5a-2525-4a22-ae7e-f9f25b0e54f4",
   "metadata": {},
   "outputs": [],
   "source": [
    "# Get the configuration for the production environment\n",
    "cfg = get_config(config_env='production')\n",
    "print(cfg)\n",
    "print(cfg.doc)\n",
    "print(cfg.client.doc)"
   ]
  },
  {
   "cell_type": "markdown",
   "id": "6b003c605c945fd8",
   "metadata": {},
   "source": [
    "## Load 'sections' format Toml file\n",
    "Load a Toml file which uses sections to provide a config tree structure,\n",
    "but does not have environments."
   ]
  },
  {
   "cell_type": "code",
   "execution_count": null,
   "id": "2e7ab0a62be98ef6",
   "metadata": {},
   "outputs": [],
   "source": [
    "from batconf.sources.toml import TomlConfig\n",
    "\n",
    "\n",
    "cfg = get_config(\n",
    "    config_file=TomlConfig('config.sections.toml', file_format='sections')\n",
    ")\n",
    "print(cfg)\n",
    "\n",
    "print(cfg.doc)\n",
    "print(cfg.client.doc)"
   ]
  },
  {
   "cell_type": "markdown",
   "id": "45fd23c8d032878b",
   "metadata": {},
   "source": [
    "## Load a 'Flat' format Toml file\n",
    "Specify a different config file to load,\n",
    "This example uses a Toml file, with a 'flat' format, no nested values."
   ]
  },
  {
   "cell_type": "code",
   "execution_count": null,
   "id": "317137c90f1c7af6",
   "metadata": {},
   "outputs": [],
   "source": [
    "from batconf.sources.toml import TomlConfig\n",
    "\n",
    "\n",
    "cfg = get_config(config_file=TomlConfig('config.flat.toml', file_format='flat'))\n",
    "# TODO: This is currently failing but should work\n",
    "print(cfg.doc)"
   ]
  },
  {
   "cell_type": "markdown",
   "id": "5dffd349812f588c",
   "metadata": {},
   "source": [
    "## Loading a file from the user's `~/.config` directory\n",
    "This example shows how to load a config file from the user's home directory"
   ]
  },
  {
   "cell_type": "code",
   "execution_count": null,
   "id": "ac0f779e3e98e7d9",
   "metadata": {},
   "outputs": [],
   "source": [
    "from config import get_config\n",
    "from pathlib import Path\n",
    "\n",
    "\n",
    "# This will fail unless you copy config.ini into your home directory\n",
    "# .config/notebooks/ directory\n",
    "cfg = get_config(config_file_name=Path.home() / '.config/notebooks/config.ini')\n",
    "cfg.doc"
   ]
  }
 ],
 "metadata": {
  "language_info": {
   "name": "python"
  }
 },
 "nbformat": 4,
 "nbformat_minor": 5
}
